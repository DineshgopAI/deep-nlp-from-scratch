{
 "cells": [
  {
   "cell_type": "code",
   "execution_count": 2,
   "id": "49408784-6707-468b-b948-841e03e7e85d",
   "metadata": {},
   "outputs": [],
   "source": [
    "import numpy as np"
   ]
  },
  {
   "cell_type": "code",
   "execution_count": 2,
   "id": "8496b6bf-98c6-4edc-a550-f38c1dd6c2af",
   "metadata": {},
   "outputs": [
    {
     "ename": "SyntaxError",
     "evalue": "invalid syntax (1773489910.py, line 1)",
     "output_type": "error",
     "traceback": [
      "  \u001b[36mCell\u001b[39m\u001b[36m \u001b[39m\u001b[32mIn[2]\u001b[39m\u001b[32m, line 1\u001b[39m\n\u001b[31m    \u001b[39m\u001b[31mpip3 install numpy\u001b[39m\n         ^\n\u001b[31mSyntaxError\u001b[39m\u001b[31m:\u001b[39m invalid syntax\n"
     ]
    }
   ],
   "source": [
    "pip3 install numpy\n"
   ]
  },
  {
   "cell_type": "code",
   "execution_count": 3,
   "id": "c24bc188-a4c8-4c18-a863-edbadbc9e49a",
   "metadata": {},
   "outputs": [
    {
     "ename": "SyntaxError",
     "evalue": "invalid syntax (3889239008.py, line 1)",
     "output_type": "error",
     "traceback": [
      "  \u001b[36mCell\u001b[39m\u001b[36m \u001b[39m\u001b[32mIn[3]\u001b[39m\u001b[32m, line 1\u001b[39m\n\u001b[31m    \u001b[39m\u001b[31mpip3 install numpy\u001b[39m\n         ^\n\u001b[31mSyntaxError\u001b[39m\u001b[31m:\u001b[39m invalid syntax\n"
     ]
    }
   ],
   "source": [
    "pip3 install numpy"
   ]
  },
  {
   "cell_type": "code",
   "execution_count": 4,
   "id": "24a887a4-9c7b-4b1e-abd4-bcadf4fa29e0",
   "metadata": {},
   "outputs": [
    {
     "ename": "NameError",
     "evalue": "name 'python' is not defined",
     "output_type": "error",
     "traceback": [
      "\u001b[31m---------------------------------------------------------------------------\u001b[39m",
      "\u001b[31mNameError\u001b[39m                                 Traceback (most recent call last)",
      "\u001b[36mCell\u001b[39m\u001b[36m \u001b[39m\u001b[32mIn[4]\u001b[39m\u001b[32m, line 1\u001b[39m\n\u001b[32m----> \u001b[39m\u001b[32m1\u001b[39m \u001b[43mpython\u001b[49m --version\n",
      "\u001b[31mNameError\u001b[39m: name 'python' is not defined"
     ]
    }
   ],
   "source": [
    "python --version"
   ]
  },
  {
   "cell_type": "code",
   "execution_count": 5,
   "id": "0a402657-ed19-4dd1-b619-cb045bf579ae",
   "metadata": {},
   "outputs": [
    {
     "ename": "NameError",
     "evalue": "name 'python' is not defined",
     "output_type": "error",
     "traceback": [
      "\u001b[31m---------------------------------------------------------------------------\u001b[39m",
      "\u001b[31mNameError\u001b[39m                                 Traceback (most recent call last)",
      "\u001b[36mCell\u001b[39m\u001b[36m \u001b[39m\u001b[32mIn[5]\u001b[39m\u001b[32m, line 1\u001b[39m\n\u001b[32m----> \u001b[39m\u001b[32m1\u001b[39m \u001b[43mpython\u001b[49m --version\n",
      "\u001b[31mNameError\u001b[39m: name 'python' is not defined"
     ]
    }
   ],
   "source": [
    "python --version"
   ]
  },
  {
   "cell_type": "code",
   "execution_count": 6,
   "id": "9a702d6f-9525-4f8e-81b1-7e77cbe1141b",
   "metadata": {},
   "outputs": [
    {
     "ename": "NameError",
     "evalue": "name 'python3' is not defined",
     "output_type": "error",
     "traceback": [
      "\u001b[31m---------------------------------------------------------------------------\u001b[39m",
      "\u001b[31mNameError\u001b[39m                                 Traceback (most recent call last)",
      "\u001b[36mCell\u001b[39m\u001b[36m \u001b[39m\u001b[32mIn[6]\u001b[39m\u001b[32m, line 1\u001b[39m\n\u001b[32m----> \u001b[39m\u001b[32m1\u001b[39m \u001b[43mpython3\u001b[49m --version\n",
      "\u001b[31mNameError\u001b[39m: name 'python3' is not defined"
     ]
    }
   ],
   "source": [
    "python3 --version"
   ]
  },
  {
   "cell_type": "code",
   "execution_count": 7,
   "id": "24427c74-7651-4c4b-9860-273db309adea",
   "metadata": {},
   "outputs": [
    {
     "name": "stdout",
     "output_type": "stream",
     "text": [
      "3.12.4 (tags/v3.12.4:8e8a4ba, Jun  6 2024, 19:30:16) [MSC v.1940 64 bit (AMD64)]\n"
     ]
    }
   ],
   "source": [
    "import sys\n",
    "print(sys.version)"
   ]
  },
  {
   "cell_type": "code",
   "execution_count": 8,
   "id": "e733841a-193d-4318-a8c2-8a410f32574b",
   "metadata": {},
   "outputs": [
    {
     "name": "stdout",
     "output_type": "stream",
     "text": [
      "Python 3.12.4\n"
     ]
    }
   ],
   "source": [
    "!python --version"
   ]
  },
  {
   "cell_type": "code",
   "execution_count": 9,
   "id": "f0fcaddb-60a6-4e82-818e-abde26d28afa",
   "metadata": {},
   "outputs": [
    {
     "name": "stdout",
     "output_type": "stream",
     "text": [
      "Collecting numpy\n",
      "  Downloading numpy-2.3.0-cp312-cp312-win_amd64.whl.metadata (60 kB)\n",
      "Downloading numpy-2.3.0-cp312-cp312-win_amd64.whl (12.7 MB)\n",
      "   ---------------------------------------- 0.0/12.7 MB ? eta -:--:--\n",
      "   --------- ------------------------------ 3.1/12.7 MB 14.2 MB/s eta 0:00:01\n",
      "   ---------------------- ----------------- 7.1/12.7 MB 16.8 MB/s eta 0:00:01\n",
      "   ------------------------------------- -- 11.8/12.7 MB 18.0 MB/s eta 0:00:01\n",
      "   ---------------------------------------- 12.7/12.7 MB 16.6 MB/s eta 0:00:00\n",
      "Installing collected packages: numpy\n",
      "Successfully installed numpy-2.3.0\n",
      "Note: you may need to restart the kernel to use updated packages.\n"
     ]
    }
   ],
   "source": [
    "pip install numpy\n"
   ]
  },
  {
   "cell_type": "code",
   "execution_count": 1,
   "id": "579ac938-16ac-4bc9-b102-742d7d2db9cb",
   "metadata": {},
   "outputs": [],
   "source": [
    "import numpy as np"
   ]
  },
  {
   "cell_type": "code",
   "execution_count": 2,
   "id": "49a92563-f223-47b3-b0ad-16d270e695cd",
   "metadata": {},
   "outputs": [
    {
     "name": "stdout",
     "output_type": "stream",
     "text": [
      "NumPy imported successfully!\n"
     ]
    }
   ],
   "source": [
    "import numpy as np\n",
    "print(\"NumPy imported successfully!\")"
   ]
  },
  {
   "cell_type": "code",
   "execution_count": 4,
   "id": "bada905e-fd88-4f2a-aacf-c140daf32c29",
   "metadata": {},
   "outputs": [
    {
     "name": "stdout",
     "output_type": "stream",
     "text": [
      "1D Array 'a' : [1 2 3 4 5]\n",
      "Shape of 'a': (5,)\n"
     ]
    }
   ],
   "source": [
    "#create a 1D array (vector)\n",
    "a=np.array([1,2,3,4,5])\n",
    "print(\"1D Array 'a' :\",a)\n",
    "print(\"Shape of 'a':\", a.shape)"
   ]
  },
  {
   "cell_type": "code",
   "execution_count": 6,
   "id": "e6315737-b4cf-4548-91ed-c7716d29ac4e",
   "metadata": {},
   "outputs": [
    {
     "name": "stdout",
     "output_type": "stream",
     "text": [
      "\n",
      "2D Array 'b':\n",
      " [[10 11 12]\n",
      " [13 14 15]]\n",
      "shape of 'b': (2, 3)\n"
     ]
    }
   ],
   "source": [
    "# create a 2D array (vector)\n",
    "b=np.array([[10,11,12],[13,14,15]])\n",
    "print(\"\\n2D Array 'b':\\n\",b)\n",
    "print(\"shape of 'b':\", b.shape)"
   ]
  },
  {
   "cell_type": "code",
   "execution_count": 7,
   "id": "b9255059-80da-4abf-b851-4052d39e4c63",
   "metadata": {},
   "outputs": [
    {
     "name": "stdout",
     "output_type": "stream",
     "text": [
      "\n",
      "Zeros Matrix (3x4):\n",
      " [[0. 0. 0. 0.]\n",
      " [0. 0. 0. 0.]\n",
      " [0. 0. 0. 0.]]\n"
     ]
    }
   ],
   "source": [
    "#create an array of all zeros (3 rows, 4 columns)\n",
    "zeros_matrix =np.zeros((3,4))\n",
    "print(\"\\nZeros Matrix (3x4):\\n\", zeros_matrix)"
   ]
  },
  {
   "cell_type": "code",
   "execution_count": 8,
   "id": "0e29061f-7dfc-43ab-8622-73e7ef9c3645",
   "metadata": {},
   "outputs": [
    {
     "name": "stdout",
     "output_type": "stream",
     "text": [
      "\n",
      "Ones MAtrix (2x2):\n",
      " [[1. 1.]\n",
      " [1. 1.]]\n"
     ]
    }
   ],
   "source": [
    "#create an array of all ones (2 rows, 2 columns)\n",
    "ones_matrix=np.ones((2,2))\n",
    "print(\"\\nOnes MAtrix (2x2):\\n\", ones_matrix)"
   ]
  },
  {
   "cell_type": "code",
   "execution_count": 14,
   "id": "29175a53-6f3f-4aa0-ac6a-fa9a7bb436de",
   "metadata": {},
   "outputs": [
    {
     "name": "stdout",
     "output_type": "stream",
     "text": [
      "\n",
      "Identity Matrix (3x3):\n",
      " [[1. 0. 0. 0. 0. 0. 0. 0.]\n",
      " [0. 1. 0. 0. 0. 0. 0. 0.]\n",
      " [0. 0. 1. 0. 0. 0. 0. 0.]\n",
      " [0. 0. 0. 1. 0. 0. 0. 0.]\n",
      " [0. 0. 0. 0. 1. 0. 0. 0.]\n",
      " [0. 0. 0. 0. 0. 1. 0. 0.]\n",
      " [0. 0. 0. 0. 0. 0. 1. 0.]\n",
      " [0. 0. 0. 0. 0. 0. 0. 1.]]\n"
     ]
    }
   ],
   "source": [
    "#create an identity matrix (3x3) -useful in linear algerbra\n",
    "identity_matrix =np.eye(8)\n",
    "print(\"\\nIdentity Matrix (3x3):\\n\", identity_matrix)"
   ]
  },
  {
   "cell_type": "code",
   "execution_count": 15,
   "id": "f120d0d2-3209-4965-a519-d318d1e7646f",
   "metadata": {},
   "outputs": [
    {
     "name": "stdout",
     "output_type": "stream",
     "text": [
      "Orginal Array:\n",
      " [[ 10  20  30  40]\n",
      " [ 50  60  70  80]\n",
      " [ 90 100 110 120]]\n"
     ]
    }
   ],
   "source": [
    "#indexing and slicing array\n",
    "my_array =np.array([[10,20,30,40],[50,60,70,80],[90,100,110,120]])\n",
    "print(\"Orginal Array:\\n\", my_array)\n"
   ]
  },
  {
   "cell_type": "code",
   "execution_count": 16,
   "id": "68dbf88c-1f93-4f21-89c3-2fddef54006b",
   "metadata": {},
   "outputs": [
    {
     "name": "stdout",
     "output_type": "stream",
     "text": [
      "\n",
      "Element at (0,1): 20\n"
     ]
    }
   ],
   "source": [
    "#Acess a single element (row 0, column 1)\n",
    "element = my_array[0,1]\n",
    "print(\"\\nElement at (0,1):\", element)"
   ]
  },
  {
   "cell_type": "code",
   "execution_count": 17,
   "id": "949b28c1-6119-4a7c-88a2-c0162f13bd89",
   "metadata": {},
   "outputs": [
    {
     "name": "stdout",
     "output_type": "stream",
     "text": [
      "\n",
      "First row:\n",
      " [10 20 30 40]\n"
     ]
    }
   ],
   "source": [
    "#slice the first row (all columns)\n",
    "first_row=my_array[0,:]\n",
    "print(\"\\nFirst row:\\n\", first_row)"
   ]
  },
  {
   "cell_type": "code",
   "execution_count": 19,
   "id": "0f5da63e-dceb-4fd5-8246-2d489b45249b",
   "metadata": {},
   "outputs": [
    {
     "name": "stdout",
     "output_type": "stream",
     "text": [
      "second column: [ 20  60 100]\n"
     ]
    }
   ],
   "source": [
    "#slice the second column (all rows)\n",
    "sec_column=my_array[:,1]\n",
    "print(\"second column:\", sec_column)"
   ]
  },
  {
   "cell_type": "code",
   "execution_count": 20,
   "id": "7361d20f-39c8-4c70-b9fc-27c33b8540f2",
   "metadata": {},
   "outputs": [
    {
     "name": "stdout",
     "output_type": "stream",
     "text": [
      "Sub matrix (rows 0-1,cols 2-3:\n",
      " [[30 40]\n",
      " [70 80]]\n"
     ]
    }
   ],
   "source": [
    "#slice a sub-matrix( rows 0 to 1, columns 2 to 3)\n",
    "sub_matrix =my_array[0:2,2:4]\n",
    "print(\"Sub matrix (rows 0-1,cols 2-3:\\n\", sub_matrix)"
   ]
  },
  {
   "cell_type": "code",
   "execution_count": 21,
   "id": "8c1f259d-e5a3-46f3-a51f-17a73fa436b8",
   "metadata": {},
   "outputs": [
    {
     "name": "stdout",
     "output_type": "stream",
     "text": [
      "Orginal Array:\n",
      " [[ 10  20  30  40]\n",
      " [ 50  60  70  80]\n",
      " [ 90 100 110 120]]\n"
     ]
    }
   ],
   "source": [
    "print(\"Orginal Array:\\n\", my_array)\n"
   ]
  },
  {
   "cell_type": "code",
   "execution_count": 25,
   "id": "29a10aa9-887c-4437-8bdd-14e3cbc157f5",
   "metadata": {},
   "outputs": [
    {
     "name": "stdout",
     "output_type": "stream",
     "text": [
      "[20 30]\n"
     ]
    }
   ],
   "source": [
    "sub=my_array[0,1:3]\n",
    "print(sub)"
   ]
  },
  {
   "cell_type": "code",
   "execution_count": 26,
   "id": "6b664c58-91cf-40a8-8196-aa10edf947f2",
   "metadata": {},
   "outputs": [
    {
     "name": "stdout",
     "output_type": "stream",
     "text": [
      "\n",
      "Array A:\n",
      " [[1 2]\n",
      " [3 4]]\n",
      "\n",
      "Array B:\n",
      " [[5 6]\n",
      " [7 8]]\n"
     ]
    }
   ],
   "source": [
    "#basic Operations(Element-wise):\n",
    "arr_a=np.array([[1,2],[3,4]])\n",
    "arr_b=np.array([[5,6],[7,8]])\n",
    "\n",
    "print(\"\\nArray A:\\n\", arr_a)\n",
    "print(\"\\nArray B:\\n\", arr_b)\n"
   ]
  },
  {
   "cell_type": "code",
   "execution_count": 27,
   "id": "342d85b5-d49d-4c9a-be4e-258ba240ddab",
   "metadata": {},
   "outputs": [
    {
     "name": "stdout",
     "output_type": "stream",
     "text": [
      "\n",
      "Element-wise A+B:\n",
      " [[ 6  8]\n",
      " [10 12]]\n"
     ]
    }
   ],
   "source": [
    "#Element-wise addition\n",
    "print(\"\\nElement-wise A+B:\\n\", arr_a+arr_b)\n"
   ]
  },
  {
   "cell_type": "code",
   "execution_count": 28,
   "id": "09bb7ee3-1c6d-4564-9da5-38f80f2979ab",
   "metadata": {},
   "outputs": [
    {
     "name": "stdout",
     "output_type": "stream",
     "text": [
      "\n",
      "Element-wise A+B:\n",
      " [[ 5 12]\n",
      " [21 32]]\n"
     ]
    }
   ],
   "source": [
    "#Element-wise multiplication\n",
    "print(\"\\nElement-wise A+B:\\n\", arr_a*arr_b)\n"
   ]
  },
  {
   "cell_type": "code",
   "execution_count": 29,
   "id": "268187ce-cb0d-4410-af56-627447de525b",
   "metadata": {},
   "outputs": [
    {
     "name": "stdout",
     "output_type": "stream",
     "text": [
      "A*5\n",
      " [[ 5 10]\n",
      " [15 20]]\n"
     ]
    }
   ],
   "source": [
    "#scalar multiplication\n",
    "print(\"A*5\\n\", arr_a*5)\n"
   ]
  },
  {
   "cell_type": "code",
   "execution_count": 31,
   "id": "ea66d55b-570a-4f70-98fc-d6a9e57c1cf3",
   "metadata": {},
   "outputs": [
    {
     "name": "stdout",
     "output_type": "stream",
     "text": [
      "matrix1:\n",
      " [[1 2]\n",
      " [3 4]]\n",
      "matrix2:\n",
      " [[5 6]\n",
      " [7 8]]\n"
     ]
    }
   ],
   "source": [
    "matrix1=np.array([[1,2],[3,4]])\n",
    "matrix2=np.array([[5,6],[7,8]])\n",
    "\n",
    "print(\"matrix1:\\n\", matrix1)\n",
    "print(\"matrix2:\\n\",matrix2)"
   ]
  },
  {
   "cell_type": "code",
   "execution_count": 34,
   "id": "ec6982f1-68b6-41d3-aa58-3b813e38c0b3",
   "metadata": {},
   "outputs": [
    {
     "name": "stdout",
     "output_type": "stream",
     "text": [
      "\n",
      "Dot Product (m1,m2) using np.dot():\n",
      " [[19 22]\n",
      " [43 50]]\n"
     ]
    }
   ],
   "source": [
    "#matrix multiplication using np.dot()\n",
    "#dot_prod_res=np.dot(matrix1,matrix2)\n",
    "#matrix multipliaction using '@' Operator\n",
    "dot_prod_res=matrix1@matrix2\n",
    "print(\"\\nDot Product (m1,m2) using np.dot():\\n\", dot_prod_res)"
   ]
  },
  {
   "cell_type": "code",
   "execution_count": 3,
   "id": "515cb632-475c-40b9-90d2-5b13c28d7263",
   "metadata": {},
   "outputs": [
    {
     "name": "stdout",
     "output_type": "stream",
     "text": [
      "Original flat array: [ 1  2  3  4  5  6  7  8  9 10 11 12]\n"
     ]
    }
   ],
   "source": [
    "#Reshaping Arrays\n",
    "Original_flat=np.array([1,2,3,4,5,6,7,8,9,10,11,12])\n",
    "print(\"Original flat array:\", Original_flat)"
   ]
  },
  {
   "cell_type": "code",
   "execution_count": 7,
   "id": "403ffb54-05af-485c-ba48-5a5d22957928",
   "metadata": {},
   "outputs": [
    {
     "name": "stdout",
     "output_type": "stream",
     "text": [
      "\n",
      "Reshaped to 3x3:\n",
      " [[ 1  2  3  4  5  6  7  8  9 10 11 12]]\n"
     ]
    }
   ],
   "source": [
    "#Reshape to 3 rows, 3 columns\n",
    "reshape_3x3 = Original_flat.reshape((1,12))\n",
    "print(\"\\nReshaped to 3x3:\\n\", reshape_3x3)"
   ]
  },
  {
   "cell_type": "code",
   "execution_count": null,
   "id": "1793c80f-cfd5-4626-8c2f-21a0a5119410",
   "metadata": {},
   "outputs": [],
   "source": []
  }
 ],
 "metadata": {
  "kernelspec": {
   "display_name": "Python 3 (ipykernel)",
   "language": "python",
   "name": "python3"
  },
  "language_info": {
   "codemirror_mode": {
    "name": "ipython",
    "version": 3
   },
   "file_extension": ".py",
   "mimetype": "text/x-python",
   "name": "python",
   "nbconvert_exporter": "python",
   "pygments_lexer": "ipython3",
   "version": "3.12.4"
  }
 },
 "nbformat": 4,
 "nbformat_minor": 5
}
