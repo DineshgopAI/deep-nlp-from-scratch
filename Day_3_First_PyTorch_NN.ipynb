{
 "cells": [
  {
   "cell_type": "markdown",
   "id": "42f3aae8-6409-49ff-bd8d-44fda5b19480",
   "metadata": {},
   "source": []
  },
  {
   "cell_type": "code",
   "execution_count": 5,
   "id": "989e6e77-cf1c-4346-af16-0c334868d383",
   "metadata": {},
   "outputs": [],
   "source": [
    "#Refresher for classes in python\n",
    "#A Class is like a blueprint for creating objects(instances).\n",
    "#Think of:\n",
    "    # A class as a recipe\n",
    "    # An object as the cake made from the recipe\n",
    "#Example 1:  Basic Class with No data\n",
    "\n",
    "class Dog:\n",
    "    def bark(self):\n",
    "        print(\"Woof!\")"
   ]
  },
  {
   "cell_type": "code",
   "execution_count": 6,
   "id": "618f01d3-34c2-4309-96a8-7fab83ee3183",
   "metadata": {},
   "outputs": [
    {
     "name": "stdout",
     "output_type": "stream",
     "text": [
      "Woof!\n"
     ]
    }
   ],
   "source": [
    "my_dog =Dog()\n",
    "my_dog.bark()"
   ]
  },
  {
   "cell_type": "code",
   "execution_count": 12,
   "id": "209b14b2-0997-4cb3-afa2-a8b47862c0cd",
   "metadata": {},
   "outputs": [],
   "source": [
    "#The __init__() Method\n",
    "#Every object has different characteristics. Let's give each dog a name and age.\n",
    "\n",
    "class Dog:\n",
    "    def __init__(self,name,age):\n",
    "        self.name=name\n",
    "        self.age=age\n",
    "    def describe(self):\n",
    "        print(f\"{self.name} is {self.age} years old\")"
   ]
  },
  {
   "cell_type": "code",
   "execution_count": 14,
   "id": "df1c9805-94de-452f-818e-fd7a143f0930",
   "metadata": {},
   "outputs": [
    {
     "name": "stdout",
     "output_type": "stream",
     "text": [
      "cheddi\n"
     ]
    }
   ],
   "source": [
    "dog1=Dog(\"cheddi\", 23)\n",
    "print(dog1.name)"
   ]
  },
  {
   "cell_type": "code",
   "execution_count": 32,
   "id": "1fcfbbf3-a749-45b4-a0ba-7c60ec5b6bd7",
   "metadata": {},
   "outputs": [],
   "source": [
    "# Adding Behavior(Methods)\n",
    "#Example3: Method that uses Data\n",
    "\n",
    "class Dog:\n",
    "    def __init__(self,name):\n",
    "        self.name=name\n",
    "        \n",
    "    def speak(self,sound):\n",
    "        print(f\"{self.name} says {sound}\")"
   ]
  },
  {
   "cell_type": "code",
   "execution_count": 33,
   "id": "dc4ea7ba-f9ab-4bda-8517-d614699321bc",
   "metadata": {},
   "outputs": [
    {
     "name": "stdout",
     "output_type": "stream",
     "text": [
      "Cheddi says Daddy!!\n"
     ]
    }
   ],
   "source": [
    "doggie=Dog(\"Cheddi\")\n",
    "\n",
    "doggie.speak(\"Daddy!!\")"
   ]
  },
  {
   "cell_type": "code",
   "execution_count": 34,
   "id": "8eacd812-0eae-4508-b0e8-44cba38f0e50",
   "metadata": {},
   "outputs": [],
   "source": [
    "#Class Inheritance(super())\n",
    "#sometimes we want to create specialized versions of class.\n",
    "#Example 4: Inherit from a Base Class\n",
    "\n",
    "class Animal:\n",
    "    def __init__(self,species):\n",
    "        self.species=species\n",
    "\n",
    "    def info(self):\n",
    "        print(f\"This is a {self.species}.\")\n",
    "\n",
    "#Dog \"inherits\" from Animal\n",
    "\n",
    "class Dog(Animal):\n",
    "    def __init__(self,name,breed):\n",
    "        super().__init__(\"Dog\") #call Animal's constructor\n",
    "        self.name=name\n",
    "        self.breed=breed\n",
    "    def describe(self):\n",
    "        print(f\"{self.name} is a {self.breed}\")"
   ]
  },
  {
   "cell_type": "code",
   "execution_count": 35,
   "id": "11e38e0e-9fa4-4f44-8777-ff9109144895",
   "metadata": {},
   "outputs": [
    {
     "name": "stdout",
     "output_type": "stream",
     "text": [
      "This is a Dog.\n"
     ]
    }
   ],
   "source": [
    "doge=Dog(\"cheedi\",\"middi\")\n",
    "doge.info()"
   ]
  },
  {
   "cell_type": "code",
   "execution_count": 36,
   "id": "25038721-7e2d-45c8-9ce1-7aca768bcd96",
   "metadata": {},
   "outputs": [
    {
     "name": "stdout",
     "output_type": "stream",
     "text": [
      "You are reading how to get cheddi by Middi\n"
     ]
    }
   ],
   "source": [
    "#mini Exercise\n",
    "#build a book class\n",
    "\n",
    "class Book:\n",
    "    def __init__(self,title, author):\n",
    "        self.title=title\n",
    "        self.author=author\n",
    "    def read(self):\n",
    "        print(f\"You are reading {self.title} by {self.author}\")\n",
    "\n",
    "book=Book(\"how to get cheddi\",\"Middi\")\n",
    "book.read()"
   ]
  },
  {
   "cell_type": "code",
   "execution_count": 39,
   "id": "73b345cb-94b2-4582-baa0-6860335af654",
   "metadata": {},
   "outputs": [
    {
     "name": "stdout",
     "output_type": "stream",
     "text": [
      "This is a ferrari car with 5 wheels.\n"
     ]
    }
   ],
   "source": [
    "#mini Exercise\n",
    "#Create a vechile and car Class using inheritance\n",
    "\n",
    "class Vechile:\n",
    "    def __init__(self,wheels):\n",
    "        self.wheels=wheels\n",
    "    def describe(self):\n",
    "        print(f\"This vechile has {self.wheels} wheels\")\n",
    "        pass\n",
    "class Car(Vechile):\n",
    "    def __init__(self,brand,wheels):\n",
    "        super().__init__(wheels)\n",
    "        self.brand=brand\n",
    "\n",
    "    def describe(self):\n",
    "        print(f\"This is a {self.brand} car with {self.wheels} wheels.\")\n",
    "\n",
    "car=Car(\"ferrari\",5)\n",
    "car.describe()\n",
    "        "
   ]
  },
  {
   "cell_type": "code",
   "execution_count": null,
   "id": "39c85c08-44df-41ad-9326-4a993deab697",
   "metadata": {},
   "outputs": [],
   "source": []
  }
 ],
 "metadata": {
  "kernelspec": {
   "display_name": "Python 3 (ipykernel)",
   "language": "python",
   "name": "python3"
  },
  "language_info": {
   "codemirror_mode": {
    "name": "ipython",
    "version": 3
   },
   "file_extension": ".py",
   "mimetype": "text/x-python",
   "name": "python",
   "nbconvert_exporter": "python",
   "pygments_lexer": "ipython3",
   "version": "3.12.4"
  }
 },
 "nbformat": 4,
 "nbformat_minor": 5
}
