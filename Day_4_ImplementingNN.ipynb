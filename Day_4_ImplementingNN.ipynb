{
 "cells": [
  {
   "cell_type": "code",
   "execution_count": null,
   "id": "138b913d-8f21-4726-8eea-0aff18b007d0",
   "metadata": {},
   "outputs": [],
   "source": [
    "# Loss Function\n",
    "# Lets say your model gets an input x= [1,2,3]\n",
    "# and it predicts:\n",
    "# output = model(x) ➜ -0.5066\n",
    "# But your true label (eg., sentiment =positive) is:\n",
    "# target = 1.0\n",
    "# You now need a score to tell you:\n",
    "# \"How worng is my model's prediction compared to the ture label?\n",
    "# That's what a loss function does - it gives you a number that says how bad your model did.\n"
   ]
  },
  {
   "cell_type": "code",
   "execution_count": 8,
   "id": "dafada2b-bcbe-4349-857b-5e871f4f38e9",
   "metadata": {},
   "outputs": [
    {
     "name": "stdout",
     "output_type": "stream",
     "text": [
      "Prediction: 0.1406\n",
      "Loss: 0.7386\n"
     ]
    }
   ],
   "source": [
    "# Stage 2: PyTorch Loss Function Example: nn.MSELoss\n",
    "\n",
    "# Let's use Mean Squared Error (MSE):\n",
    "#                          Loss=(Prediction-target)^2\n",
    "\n",
    "import torch\n",
    "import torch.nn as nn\n",
    "\n",
    "#step 1: Create model\n",
    "class NeuralNet(nn.Module):\n",
    "    def __init__(self,input_size):\n",
    "        super().__init__()\n",
    "        self.linear=nn.Linear(input_size,1)\n",
    "\n",
    "    def forward(self,x):\n",
    "        return self.linear(x)\n",
    "\n",
    "#step 2: Create input and true label\n",
    "x=torch.tensor([[1.0,1.0,1.0]])\n",
    "y_true = torch.tensor([[1.0]]) #true label\n",
    "\n",
    "#step 3: Create model and compute Prediction\n",
    "\n",
    "model=NeuralNet(3)\n",
    "y_pred = model(x)\n",
    "\n",
    "#step 4: Create loss function and compute loss\n",
    "\n",
    "loss_fn= nn.MSELoss()\n",
    "loss =loss_fn(y_pred,y_true)\n",
    "\n",
    "print(f\"Prediction: {y_pred.item():.4f}\")\n",
    "print(f\"Loss: {loss.item():.4f}\")"
   ]
  },
  {
   "cell_type": "code",
   "execution_count": null,
   "id": "5e54efda-1ab9-419b-b6a3-4f8b4739eaa6",
   "metadata": {},
   "outputs": [],
   "source": [
    "#Stage 3: Optimizer and Training Step (Backproagation)\n",
    "# I am Learning:\n",
    "# What training means\n",
    "# How gradients + backpropagation work in PyTorch\n",
    "# How to use an optimizer to update weights\n",
    "\n",
    "\n",
    "# The Big Picture\n",
    "# Training a neural network = Repeatedly:\n",
    "# 1. \"Do a Forward pass--> get prediction\"\n",
    "# 2. \"Compute the loss(how worng it is)\"\n",
    "# 3. \"Do backpropagation(compute gradients)\"\n",
    "# 4. \"Use the optimizer to update weights\"\n",
    "# 5. \"Repeat\"\n",
    "# This loop is often called \"Training Loop\".\n",
    "\n",
    "# The Tools:\n",
    "# loss.backward() --> Computes gradients (how to change weights to reduce loss)\n",
    "# optimizer.step() --> Updates weights using gradients\n",
    "# optimizer.zero_grad() --> Clears old gradients before next step\n"
   ]
  },
  {
   "cell_type": "code",
   "execution_count": 23,
   "id": "4ae8666c-82c9-4ba5-8b62-04ad6f14b2a7",
   "metadata": {},
   "outputs": [
    {
     "name": "stdout",
     "output_type": "stream",
     "text": [
      "Prediction before Training: 1.5244\n",
      "Loss before training:0.2750\n",
      "Prediction after training: 1.36708402633667\n"
     ]
    }
   ],
   "source": [
    "import torch\n",
    "import torch.nn as nn\n",
    "import torch.optim as optim\n",
    "\n",
    "#Fix random seed for consistent results\n",
    "torch.manual_seed(42)\n",
    "\n",
    "#Define the model\n",
    "class NeuralNet(nn.Module):\n",
    "    def __init__(self,input_size):\n",
    "        super().__init__()\n",
    "        self.linear=nn.Linear(input_size,1)\n",
    "\n",
    "    def forward(self,x):\n",
    "        return self.linear(x)\n",
    "\n",
    "#Inputs and Labels\n",
    "x=torch.tensor([[1.0,2.0,3.0]])\n",
    "y_true = torch.tensor([[1.0]])\n",
    "\n",
    "#Model and loss\n",
    "\n",
    "model=NeuralNet(3)\n",
    "loss_fn = nn.MSELoss()\n",
    "\n",
    "#Optimizer: SGD with learning rate 0.001\n",
    "optimizer =optim.SGD(model.parameters(),lr=0.01)\n",
    "\n",
    "#---Forward Pass---\n",
    "y_pred =model(x)\n",
    "loss=loss_fn(y_pred,y_true)\n",
    "\n",
    "#--Backward Pass---\n",
    "loss.backward() #computes gradients\n",
    "optimizer.step() #update weights\n",
    "optimizer.zero_grad() #Clear gradients for next step\n",
    "\n",
    "# Print output\n",
    "print(f\"Prediction before Training: {y_pred.item():.4f}\")\n",
    "print(f\"Loss before training:{loss.item():.4f}\")\n",
    "\n",
    "#Check new prediction after 1 training step\n",
    "new_pred=model(x)\n",
    "print(\"Prediction after training:\",new_pred.item())"
   ]
  },
  {
   "cell_type": "code",
   "execution_count": null,
   "id": "ae236ad1-91e1-423f-ab93-6a1e88f2b096",
   "metadata": {},
   "outputs": [],
   "source": [
    "#Stage 4: Full Training Loop (Multiple Epochs)\n",
    "\n",
    "# I am Learing \n",
    "# What an epoch is\n",
    "# How to loop over data and imporve performance step-by_step\n",
    "# How to track the loss going down over time\n",
    "\n",
    "#Analogy: Think of an epoch as reading through an entire textbook once while taking notes to learn the material.\n",
    "# Each chapter (batch of data) is studied in sequence, and by the end, you’ve covered the whole book.\n",
    "#Training for multiple epochs is like re-reading the textbook multiple times, refining your understanding each time.\n",
    "\n",
    "#Why Multiple Epochs?\n",
    "#A single pass (one epoch) is often not enough for the model to learn complex patterns.\n",
    "#Multiple epochs allow the model to iteratively adjust its parameters, improving predictions as it “sees” the data repeatedly.\n",
    "\n",
    "# Batches: In practice, datasets are often large, so they’re split into smaller chunks called batches.\n",
    "# An epoch involves processing all batches to cover the entire dataset. For example, if you have 100 samples and a batch size of 20, one epoch consists of 5 batches (100 ÷ 20 = 5).\n",
    "\n"
   ]
  },
  {
   "cell_type": "code",
   "execution_count": 27,
   "id": "ac0fb074-b9cc-43a8-b27b-86e3b6c25cb0",
   "metadata": {},
   "outputs": [
    {
     "name": "stdout",
     "output_type": "stream",
     "text": [
      "Epoch 10: Prediction=4.8597, Loss=0.0197\n",
      "Epoch 20: Prediction=4.9960, Loss=0.0000\n",
      "Epoch 30: Prediction=4.9999, Loss=0.0000\n",
      "Epoch 40: Prediction=5.0000, Loss=0.0000\n",
      "Epoch 50: Prediction=5.0000, Loss=0.0000\n",
      "Epoch 60: Prediction=5.0000, Loss=0.0000\n",
      "Epoch 70: Prediction=5.0000, Loss=0.0000\n",
      "Epoch 80: Prediction=5.0000, Loss=0.0000\n",
      "Epoch 90: Prediction=5.0000, Loss=0.0000\n",
      "Epoch 100: Prediction=5.0000, Loss=0.0000\n"
     ]
    }
   ],
   "source": [
    "# Training the model over 100 epochs and watch the prediction improve:\n",
    "\n",
    "import torch\n",
    "import torch.nn as nn\n",
    "import torch.optim as optim\n",
    "\n",
    "#Fix seed\n",
    "torch.manual_seed(42)\n",
    "\n",
    "#Define simple network\n",
    "class NeuralNet(nn.Module):\n",
    "    def __init__(self,input_size):\n",
    "        super().__init__()\n",
    "        self.linear=nn.Linear(input_size,1)\n",
    "\n",
    "    def forward(self,x):\n",
    "        return self.linear(x)\n",
    "\n",
    "#Data\n",
    "x= torch.tensor([[1.0,2.0,3.0]])\n",
    "y_true = torch.tensor([[5.0]])\n",
    "\n",
    "#Model, loss, optimizer\n",
    "model = NeuralNet(3)\n",
    "loss_fn=nn.MSELoss()\n",
    "optimizer=optim.SGD(model.parameters(),lr=0.01)\n",
    "\n",
    "#--Full Training Loop--\n",
    "\n",
    "for epoch in range(100):\n",
    "    #forward pass\n",
    "    y_pred =model(x)\n",
    "    loss=loss_fn(y_pred,y_true)\n",
    "\n",
    "    #Backward pass\n",
    "    loss.backward()\n",
    "    optimizer.step()\n",
    "    optimizer.zero_grad()\n",
    "\n",
    "    #Print loss every 10 epochs\n",
    "    if(epoch +1)%10==0:\n",
    "        print(f\"Epoch {epoch+1}: Prediction={y_pred.item():.4f}, Loss={loss.item():.4f}\")"
   ]
  },
  {
   "cell_type": "code",
   "execution_count": null,
   "id": "df3f1c7a-bb5f-4824-9342-003de59be1fe",
   "metadata": {},
   "outputs": [],
   "source": []
  }
 ],
 "metadata": {
  "kernelspec": {
   "display_name": "Python 3 (ipykernel)",
   "language": "python",
   "name": "python3"
  },
  "language_info": {
   "codemirror_mode": {
    "name": "ipython",
    "version": 3
   },
   "file_extension": ".py",
   "mimetype": "text/x-python",
   "name": "python",
   "nbconvert_exporter": "python",
   "pygments_lexer": "ipython3",
   "version": "3.12.4"
  }
 },
 "nbformat": 4,
 "nbformat_minor": 5
}
