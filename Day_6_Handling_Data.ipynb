{
 "cells": [
  {
   "cell_type": "code",
   "execution_count": 1,
   "id": "e1d9174b-5ad6-4f78-a5de-b0d3b6c5ba50",
   "metadata": {
    "scrolled": true
   },
   "outputs": [
    {
     "name": "stdout",
     "output_type": "stream",
     "text": [
      "Train sample\n",
      "{'text': 'I rented I AM CURIOUS-YELLOW from my video store because of all the controversy that surrounded it when it was first released in 1967. I also heard that at first it was seized by U.S. customs if it ever tried to enter this country, therefore being a fan of films considered \"controversial\" I really had to see this for myself.<br /><br />The plot is centered around a young Swedish drama student named Lena who wants to learn everything she can about life. In particular she wants to focus her attentions to making some sort of documentary on what the average Swede thought about certain political issues such as the Vietnam War and race issues in the United States. In between asking politicians and ordinary denizens of Stockholm about their opinions on politics, she has sex with her drama teacher, classmates, and married men.<br /><br />What kills me about I AM CURIOUS-YELLOW is that 40 years ago, this was considered pornographic. Really, the sex and nudity scenes are few and far between, even then it\\'s not shot like some cheaply made porno. While my countrymen mind find it shocking, in reality sex and nudity are a major staple in Swedish cinema. Even Ingmar Bergman, arguably their answer to good old boy John Ford, had sex scenes in his films.<br /><br />I do commend the filmmakers for the fact that any sex shown in the film is shown for artistic purposes rather than just to shock people and make money to be shown in pornographic theaters in America. I AM CURIOUS-YELLOW is a good film for anyone wanting to study the meat and potatoes (no pun intended) of Swedish cinema. But really, this film doesn\\'t have much of a plot.', 'label': 0}\n"
     ]
    }
   ],
   "source": [
    "from datasets import load_dataset\n",
    "\n",
    "#Automatically downloads and caches the IMDB dataset\n",
    "dataset = load_dataset(\"imdb\")\n",
    "\n",
    "#check a sample\n",
    "print(\"Train sample\")\n",
    "print(dataset[\"train\"][0])"
   ]
  },
  {
   "cell_type": "code",
   "execution_count": null,
   "id": "c89a86eb-1524-42dd-aa7f-12b43ac6fb09",
   "metadata": {},
   "outputs": [],
   "source": [
    "# The \"Text\" is the full review(input).\n",
    "# The  \"label\" is the sentiment: 0--> Negative 1--> Positive\n",
    "# This dataset has 25,000 training samples and 25,000 test samples"
   ]
  },
  {
   "cell_type": "code",
   "execution_count": 5,
   "id": "7aea8e5c-c6ab-4397-b949-07ec3f1579a0",
   "metadata": {},
   "outputs": [
    {
     "name": "stdout",
     "output_type": "stream",
     "text": [
      "tokens ['I', 'loveds', 'it']\n",
      "[1, 0, 3]\n",
      "[1, 0, 3, 0, 0]\n"
     ]
    }
   ],
   "source": [
    "#example tokens and vocab\n",
    "vocab= {\"I\": 1, \"loved\":2, \"it\":3}\n",
    "\n",
    "# Tokenize\n",
    "sentence =\"I loveds it\"\n",
    "tokens=sentence.split()\n",
    "print(\"tokens\", tokens)\n",
    "\n",
    "#Encode\n",
    "encoded = [vocab.get(token,0) for token in tokens] # 0 for unkown words\n",
    "print(encoded)\n",
    "#Pad to length 5\n",
    "max_len=5\n",
    "padded= encoded + [0]*(max_len - len(encoded))\n",
    "\n",
    "print(padded) #outputs [1,2,3,0,0]"
   ]
  },
  {
   "cell_type": "code",
   "execution_count": 8,
   "id": "619bd403-3ad3-4ebc-ac11-764419f7ffb5",
   "metadata": {},
   "outputs": [
    {
     "name": "stdout",
     "output_type": "stream",
     "text": [
      "[1, 2, 3, 0, 0]\n",
      "[3, 0, 4, 6, 0]\n"
     ]
    }
   ],
   "source": [
    "# example padding 2-3 simple sentences with my own small voacbulary\n",
    "voc={\"I\": 1, \"am\": 2, \"Dinesh\":3,\"Aditi\":4,\"as\" : 6}\n",
    "\n",
    "sent1=\" I am Dinesh\"\n",
    "sent2=\"Dinesh likes Aditi as a friend\"\n",
    "\n",
    "# Tokenize\n",
    "token1=sent1.split()\n",
    "token2=sent2.split()\n",
    "\n",
    "# Encode\n",
    "encoded1 =[voc.get(token,0) for token in token1] # 0 for unkown words\n",
    "encoded2=[voc.get(token,0) for token in token2] \n",
    "\n",
    "#Pad to length 5\n",
    "max_len=5\n",
    "\n",
    "def pad(seq, max_len):\n",
    "    if len(seq) >= max_len:\n",
    "        return seq[:max_len]  # Truncate\n",
    "    else:\n",
    "        return seq + [0] * (max_len - len(seq))  # Pad\n",
    "\n",
    "\n",
    "padded1= pad(encoded1,max_len)\n",
    "padded2= pad(encoded2,max_len)\n",
    "\n",
    "print(padded1)\n",
    "print(padded2)\n",
    "\n"
   ]
  },
  {
   "cell_type": "code",
   "execution_count": null,
   "id": "05d31dff-b090-41ba-ae8f-20c66370c8db",
   "metadata": {},
   "outputs": [],
   "source": []
  }
 ],
 "metadata": {
  "kernelspec": {
   "display_name": "Python 3 (ipykernel)",
   "language": "python",
   "name": "python3"
  },
  "language_info": {
   "codemirror_mode": {
    "name": "ipython",
    "version": 3
   },
   "file_extension": ".py",
   "mimetype": "text/x-python",
   "name": "python",
   "nbconvert_exporter": "python",
   "pygments_lexer": "ipython3",
   "version": "3.12.4"
  }
 },
 "nbformat": 4,
 "nbformat_minor": 5
}
